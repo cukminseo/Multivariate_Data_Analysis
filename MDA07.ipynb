{
 "cells": [
  {
   "cell_type": "code",
   "execution_count": 1,
   "id": "initial_id",
   "metadata": {
    "collapsed": true,
    "ExecuteTime": {
     "end_time": "2024-04-19T02:50:31.257406Z",
     "start_time": "2024-04-19T02:50:31.248148Z"
    }
   },
   "outputs": [],
   "source": [
    "import math\n",
    "##### Sample Dataset (10) #####\n",
    "measurements = [2.1, 2.2, 2.0, 2.3, 2.1, 2.2, 2.1, 2.4, 2.3, 2.2]\n",
    "##### Function: :Likelihood calculation #####\n",
    "def calculate_likelihood(data, mu, sigma):\n",
    "    likelihood = 1.0\n",
    "    for measurement in data:\n",
    "        exponent = -(measurement-mu)**2/(2*sigma**2)\n",
    "        likelihood *= (1/(sigma*math.sqrt(2*math.pi)))*math.exp(exponent)\n",
    "    return likelihood"
   ]
  },
  {
   "cell_type": "code",
   "outputs": [
    {
     "name": "stdout",
     "output_type": "stream",
     "text": [
      "### 1. Calculate the likelihood ###\n",
      "Likelihood: 1535.2762294855227\n"
     ]
    }
   ],
   "source": [
    "### 1. Calculate the likelihood ###\n",
    "print(\"### 1. Calculate the likelihood ###\")\n",
    "# 모수의 평균을 2.2라고 가정한 값\n",
    "mean = 2.2\n",
    "# 표준편차 역시 가정한 값\n",
    "std_dev = 0.1\n",
    "# 계산\n",
    "likelihood = calculate_likelihood(measurements, mean, std_dev)\n",
    "# 만일 mean이 2.2이고 std_dev이 0.1일 likelyhood\n",
    "print(\"Likelihood:\", likelihood)"
   ],
   "metadata": {
    "collapsed": false,
    "ExecuteTime": {
     "end_time": "2024-04-19T02:50:38.518331Z",
     "start_time": "2024-04-19T02:50:38.453271Z"
    }
   },
   "id": "75c4ec8c8e7b6475",
   "execution_count": 2
  },
  {
   "cell_type": "code",
   "outputs": [
    {
     "name": "stdout",
     "output_type": "stream",
     "text": [
      "### 2. Calculate the likelihoods by changing mean values ###\n",
      "Mean: 2.0, Likelihood: 2.3382225877603254e-05\n",
      "Mean: 2.1, Likelihood: 28.119565013714418\n",
      "Mean: 2.2, Likelihood: 1535.2762294855227\n",
      "Mean: 2.3, Likelihood: 3.8055692956214573\n",
      "Mean: 2.4, Likelihood: 4.282604055890112e-07\n"
     ]
    }
   ],
   "source": [
    "### 2. Calculate the likelihoods by changing mean values ###\n",
    "print(\"### 2. Calculate the likelihoods by changing mean values ###\")\n",
    "# 직관을 위해 가정 값을 여러개 두자\n",
    "mean_list = [2.0, 2.1, 2.2, 2.3, 2.4]\n",
    "std_dev = 0.1\n",
    "# 계산\n",
    "for mean in mean_list:\n",
    "    likelihood = calculate_likelihood(measurements, mean, std_dev)\n",
    "    # 각각의 평균과 편차에 대한 likelyhood \n",
    "    print(f\"Mean: {mean}, Likelihood: {likelihood}\")"
   ],
   "metadata": {
    "collapsed": false,
    "ExecuteTime": {
     "end_time": "2024-04-19T02:55:22.854941Z",
     "start_time": "2024-04-19T02:55:22.849828Z"
    }
   },
   "id": "c21974d1011de30e",
   "execution_count": 5
  },
  {
   "cell_type": "code",
   "outputs": [
    {
     "name": "stdout",
     "output_type": "stream",
     "text": [
      "### 3. Calculate the likelihoods by changing both mean and std values ###\n",
      "Mean: 2.0, std:0.1, Likelihood: 2.3382225877603254e-05\n",
      "Mean: 2.0, std:0.2, Likelihood: 2.181458723602369\n",
      "Mean: 2.0, std:0.3, Likelihood: 1.1366899530712442\n",
      "Mean: 2.0, std:0.4, Likelihood: 0.210614040322775\n",
      "Mean: 2.0, std:0.5, Likelihood: 0.039245694837152616\n",
      "Mean: 2.1, std:0.1, Likelihood: 28.119565013714418\n",
      "Mean: 2.1, std:0.2, Likelihood: 72.23999156132467\n",
      "Mean: 2.1, std:0.3, Likelihood: 5.385316291542496\n",
      "Mean: 2.1, std:0.4, Likelihood: 0.5052368178928953\n",
      "Mean: 2.1, std:0.5, Likelihood: 0.06870635870641578\n",
      "Mean: 2.2, std:0.1, Likelihood: 1535.2762294855227\n",
      "Mean: 2.2, std:0.2, Likelihood: 196.36865634918325\n",
      "Mean: 2.2, std:0.3, Likelihood: 8.39906583033428\n",
      "Mean: 2.2, std:0.4, Likelihood: 0.6487369156209131\n",
      "Mean: 2.2, std:0.5, Likelihood: 0.08062765884824176\n",
      "Mean: 2.3, std:0.1, Likelihood: 3.8055692956214573\n",
      "Mean: 2.3, std:0.2, Likelihood: 43.81576973932554\n",
      "Mean: 2.3, std:0.3, Likelihood: 4.312224181175323\n",
      "Mean: 2.3, std:0.4, Likelihood: 0.445869926862178\n",
      "Mean: 2.3, std:0.5, Likelihood: 0.06342396282259623\n",
      "Mean: 2.4, std:0.1, Likelihood: 4.282604055890112e-07\n",
      "Mean: 2.4, std:0.2, Likelihood: 0.8025138161774141\n",
      "Mean: 2.4, std:0.3, Likelihood: 0.72882330563465\n",
      "Mean: 2.4, std:0.4, Likelihood: 0.16402637952920995\n",
      "Mean: 2.4, std:0.5, Likelihood: 0.033442975099142944\n"
     ]
    }
   ],
   "source": [
    "### 3. Calculate the likelihoods by changing both mean and std values ###\n",
    "print(\"### 3. Calculate the likelihoods by changing both mean and std values ###\")\n",
    "# 두개를 다 돌려보자\n",
    "mean_list = [2.0, 2.1, 2.2, 2.3, 2.4]\n",
    "std_dev_list = [0.1, 0.2, 0.3, 0.4, 0.5]\n",
    "# Calculate the likelihoods by changing both mean and std values\n",
    "for mean in mean_list:\n",
    "    for std_dev in std_dev_list:\n",
    "        likelihood = calculate_likelihood(measurements, mean, std_dev)\n",
    "        # 각각의 평균과 편차에 대한 likelyhood \n",
    "        print(f\"Mean: {mean}, std:{std_dev}, Likelihood: {likelihood}\")"
   ],
   "metadata": {
    "collapsed": false,
    "ExecuteTime": {
     "end_time": "2024-04-19T02:59:36.716006Z",
     "start_time": "2024-04-19T02:59:36.712065Z"
    }
   },
   "id": "1a38d39f1a76cb76",
   "execution_count": 11
  },
  {
   "cell_type": "code",
   "outputs": [
    {
     "name": "stdout",
     "output_type": "stream",
     "text": [
      "### 4. Maximum likelihood estimation ###\n",
      "Maximum Likelihood Estimation:\n",
      "Best Mean: 2.189999999999979\n",
      "Best Standard Deviation: 0.11400000000000002\n",
      "Max Likelihood: 1925.8398074486447\n"
     ]
    }
   ],
   "source": [
    "import numpy as np\n",
    "### 4. Maximum likelihood estimation ###\n",
    "print(\"### 4. Maximum likelihood estimation ###\")\n",
    "\n",
    "max_likelihood = -99\n",
    "for mean in np.arange(2, 3, 0.001):\n",
    "    for std in np.arange(0.1, 0.5, 0.001):\n",
    "        likelihood = calculate_likelihood(measurements, mean, std)\n",
    "        if max_likelihood < likelihood:\n",
    "            max_likelihood = likelihood\n",
    "            best_mean = mean\n",
    "            best_std_dev = std\n",
    "\n",
    "print(\"Maximum Likelihood Estimation:\")\n",
    "print(f\"Best Mean: {best_mean}\")\n",
    "print(f\"Best Standard Deviation: {best_std_dev}\")\n",
    "print(f\"Max Likelihood: {max_likelihood}\")"
   ],
   "metadata": {
    "collapsed": false,
    "ExecuteTime": {
     "end_time": "2024-04-19T03:05:36.853487Z",
     "start_time": "2024-04-19T03:05:33.531205Z"
    }
   },
   "id": "3728a45dc9072385",
   "execution_count": 14
  },
  {
   "cell_type": "code",
   "outputs": [],
   "source": [],
   "metadata": {
    "collapsed": false
   },
   "id": "1d06099cf0947d29"
  }
 ],
 "metadata": {
  "kernelspec": {
   "display_name": "Python 3",
   "language": "python",
   "name": "python3"
  },
  "language_info": {
   "codemirror_mode": {
    "name": "ipython",
    "version": 2
   },
   "file_extension": ".py",
   "mimetype": "text/x-python",
   "name": "python",
   "nbconvert_exporter": "python",
   "pygments_lexer": "ipython2",
   "version": "2.7.6"
  }
 },
 "nbformat": 4,
 "nbformat_minor": 5
}
