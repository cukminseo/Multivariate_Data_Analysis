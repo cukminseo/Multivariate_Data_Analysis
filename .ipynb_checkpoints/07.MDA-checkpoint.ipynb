{
 "cells": [
  {
   "cell_type": "code",
   "id": "initial_id",
   "metadata": {
    "collapsed": true,
    "ExecuteTime": {
     "end_time": "2024-06-19T04:00:30.806989Z",
     "start_time": "2024-06-19T04:00:30.803419Z"
    }
   },
   "source": [
    "import math  # math 모듈을 임포트합니다. 이 모듈은 수학적 연산을 수행하는데 필요한 여러 함수를 제공합니다.\n",
    "\n",
    "# 측정값들을 담은 리스트를 생성합니다. 이 예제에서는 총 10개의 측정값이 있습니다.\n",
    "measurements = [2.1, 2.2, 2.0, 2.3, 2.1, 2.2, 2.1, 2.4, 2.3, 2.2]\n",
    "\n",
    "# 가능도(likelihood)를 계산하는 함수를 정의합니다. 이 함수는 데이터, 평균(mu), 그리고 표준편차(sigma)를 인자로 받습니다.\n",
    "def calculate_likelihood(data, mu, sigma):\n",
    "    likelihood = 1.0  # 가능도를 초기화합니다. 가능도는 모든 데이터 포인트에 대한 확률밀도함수의 곱이므로, 초기값은 곱셈의 항등원인 1로 설정합니다.\n",
    "    for measurement in data:  # 데이터의 각 측정값에 대해 반복합니다.\n",
    "        exponent = -(measurement-mu)**2/(2*sigma**2)  # 정규 분포의 지수 부분을 계산합니다. 이는 측정값에서 평균을 뺀 값의 제곱을 2*표준편차의 제곱으로 나눈 것입니다.\n",
    "        likelihood *= (1/(sigma*math.sqrt(2*math.pi)))*math.exp(exponent)  # 정규 분포의 확률 밀도 함수를 계산하고, 이를 현재까지의 가능도에 곱합니다.\n",
    "    return likelihood  # 계산된 가능도를 반환합니다. 이 값은 주어진 데이터가 특정 평균과 표준편차를 가진 정규 분포에서 나왔을 가능성을 나타냅니다.\n"
   ],
   "outputs": [],
   "execution_count": 1
  },
  {
   "cell_type": "code",
   "source": [
    "### 1. 가능도 계산 ###\n",
    "print(\"### 1. Calculate the likelihood ###\")\n",
    "\n",
    "# 모수의 평균을 2.2라고 가정한 값\n",
    "mean = 2.2\n",
    "\n",
    "# 표준편차 역시 가정한 값\n",
    "std_dev = 0.1\n",
    "\n",
    "# 가능도 계산 함수 호출\n",
    "# 'measurements'는 이미 정의된 데이터\n",
    "likelihood = calculate_likelihood(measurements, mean, std_dev)\n",
    "\n",
    "# 만일 mean이 2.2이고 std_dev이 0.1일 때의 가능도 출력\n",
    "print(\"Likelihood:\", likelihood)"
   ],
   "metadata": {
    "collapsed": false,
    "ExecuteTime": {
     "end_time": "2024-06-19T04:01:13.295264Z",
     "start_time": "2024-06-19T04:01:13.292250Z"
    }
   },
   "id": "75c4ec8c8e7b6475",
   "outputs": [
    {
     "name": "stdout",
     "output_type": "stream",
     "text": [
      "### 1. Calculate the likelihood ###\n",
      "Likelihood: 1535.2762294855227\n"
     ]
    }
   ],
   "execution_count": 6
  },
  {
   "cell_type": "code",
   "source": [
    "### 2. 평균 값을 변경하여 가능도 계산 ###\n",
    "print(\"### 2. Calculate the likelihoods by changing mean values ###\")\n",
    "\n",
    "# 직관을 위해 여러 가정 값을 설정\n",
    "mean_list = [2.0, 2.1, 2.2, 2.3, 2.4]\n",
    "\n",
    "# 표준편차는 고정된 값\n",
    "std_dev = 0.1\n",
    "\n",
    "# 각 평균 값에 대한 가능도 계산\n",
    "for mean in mean_list:\n",
    "    likelihood = calculate_likelihood(measurements, mean, std_dev)\n",
    "    # 각각의 평균과 표준편차에 대한 가능도 출력\n",
    "    print(f\"Mean: {mean}, Likelihood: {likelihood}\")"
   ],
   "metadata": {
    "collapsed": false,
    "ExecuteTime": {
     "end_time": "2024-06-19T04:01:26.653798Z",
     "start_time": "2024-06-19T04:01:26.650348Z"
    }
   },
   "id": "c21974d1011de30e",
   "outputs": [
    {
     "name": "stdout",
     "output_type": "stream",
     "text": [
      "### 2. Calculate the likelihoods by changing mean values ###\n",
      "Mean: 2.0, Likelihood: 2.3382225877603254e-05\n",
      "Mean: 2.1, Likelihood: 28.119565013714418\n",
      "Mean: 2.2, Likelihood: 1535.2762294855227\n",
      "Mean: 2.3, Likelihood: 3.8055692956214573\n",
      "Mean: 2.4, Likelihood: 4.282604055890112e-07\n"
     ]
    }
   ],
   "execution_count": 7
  },
  {
   "cell_type": "code",
   "source": [
    "### 3. 평균과 표준편차를 모두 변경하여 가능도 계산 ###\n",
    "print(\"### 3. Calculate the likelihoods by changing both mean and std values ###\")\n",
    "\n",
    "# 여러 평균 값 설정\n",
    "mean_list = [2.0, 2.1, 2.2, 2.3, 2.4]\n",
    "\n",
    "# 여러 표준편차 값 설정\n",
    "std_dev_list = [0.1, 0.2, 0.3, 0.4, 0.5]\n",
    "\n",
    "# 평균과 표준편차를 모두 변경하여 가능도 계산\n",
    "for mean in mean_list:\n",
    "    for std_dev in std_dev_list:\n",
    "        likelihood = calculate_likelihood(measurements, mean, std_dev)\n",
    "        # 각각의 평균과 표준편차에 대한 가능도 출력\n",
    "        print(f\"Mean: {mean}, std: {std_dev}, Likelihood: {likelihood}\")\n"
   ],
   "metadata": {
    "collapsed": false,
    "ExecuteTime": {
     "end_time": "2024-06-19T04:01:48.677055Z",
     "start_time": "2024-06-19T04:01:48.673530Z"
    }
   },
   "id": "1a38d39f1a76cb76",
   "outputs": [
    {
     "name": "stdout",
     "output_type": "stream",
     "text": [
      "### 3. Calculate the likelihoods by changing both mean and std values ###\n",
      "Mean: 2.0, std: 0.1, Likelihood: 2.3382225877603254e-05\n",
      "Mean: 2.0, std: 0.2, Likelihood: 2.181458723602369\n",
      "Mean: 2.0, std: 0.3, Likelihood: 1.1366899530712442\n",
      "Mean: 2.0, std: 0.4, Likelihood: 0.210614040322775\n",
      "Mean: 2.0, std: 0.5, Likelihood: 0.039245694837152616\n",
      "Mean: 2.1, std: 0.1, Likelihood: 28.119565013714418\n",
      "Mean: 2.1, std: 0.2, Likelihood: 72.23999156132467\n",
      "Mean: 2.1, std: 0.3, Likelihood: 5.385316291542496\n",
      "Mean: 2.1, std: 0.4, Likelihood: 0.5052368178928953\n",
      "Mean: 2.1, std: 0.5, Likelihood: 0.06870635870641578\n",
      "Mean: 2.2, std: 0.1, Likelihood: 1535.2762294855227\n",
      "Mean: 2.2, std: 0.2, Likelihood: 196.36865634918325\n",
      "Mean: 2.2, std: 0.3, Likelihood: 8.39906583033428\n",
      "Mean: 2.2, std: 0.4, Likelihood: 0.6487369156209131\n",
      "Mean: 2.2, std: 0.5, Likelihood: 0.08062765884824176\n",
      "Mean: 2.3, std: 0.1, Likelihood: 3.8055692956214573\n",
      "Mean: 2.3, std: 0.2, Likelihood: 43.81576973932554\n",
      "Mean: 2.3, std: 0.3, Likelihood: 4.312224181175323\n",
      "Mean: 2.3, std: 0.4, Likelihood: 0.445869926862178\n",
      "Mean: 2.3, std: 0.5, Likelihood: 0.06342396282259623\n",
      "Mean: 2.4, std: 0.1, Likelihood: 4.282604055890112e-07\n",
      "Mean: 2.4, std: 0.2, Likelihood: 0.8025138161774141\n",
      "Mean: 2.4, std: 0.3, Likelihood: 0.72882330563465\n",
      "Mean: 2.4, std: 0.4, Likelihood: 0.16402637952920995\n",
      "Mean: 2.4, std: 0.5, Likelihood: 0.033442975099142944\n"
     ]
    }
   ],
   "execution_count": 8
  },
  {
   "cell_type": "code",
   "source": [
    "import numpy as np\n",
    "### 4. Maximum likelihood estimation ###\n",
    "print(\"### 4. Maximum likelihood estimation ###\")\n",
    "\n",
    "max_likelihood = -99\n",
    "for mean in np.arange(2, 3, 0.001):\n",
    "    for std in np.arange(0.1, 0.5, 0.001):\n",
    "        likelihood = calculate_likelihood(measurements, mean, std)\n",
    "        if max_likelihood < likelihood:\n",
    "            max_likelihood = likelihood\n",
    "            best_mean = mean\n",
    "            best_std_dev = std\n",
    "\n",
    "print(\"Maximum Likelihood Estimation:\")\n",
    "print(f\"Best Mean: {best_mean}\")\n",
    "print(f\"Best Standard Deviation: {best_std_dev}\")\n",
    "print(f\"Max Likelihood: {max_likelihood}\")"
   ],
   "metadata": {
    "collapsed": false,
    "ExecuteTime": {
     "end_time": "2024-06-19T04:00:32.769218Z",
     "start_time": "2024-06-19T04:00:30.820705Z"
    }
   },
   "id": "3728a45dc9072385",
   "outputs": [
    {
     "name": "stdout",
     "output_type": "stream",
     "text": [
      "### 4. Maximum likelihood estimation ###\n",
      "Maximum Likelihood Estimation:\n",
      "Best Mean: 2.189999999999979\n",
      "Best Standard Deviation: 0.11400000000000002\n",
      "Max Likelihood: 1925.8398074486447\n"
     ]
    }
   ],
   "execution_count": 5
  },
  {
   "cell_type": "code",
   "outputs": [],
   "source": [],
   "metadata": {
    "collapsed": false,
    "ExecuteTime": {
     "end_time": "2024-04-24T05:06:32.322143100Z",
     "start_time": "2024-04-24T05:06:32.318521200Z"
    }
   },
   "id": "1d06099cf0947d29",
   "execution_count": 5
  },
  {
   "cell_type": "code",
   "outputs": [],
   "source": [],
   "metadata": {
    "collapsed": false,
    "ExecuteTime": {
     "end_time": "2024-04-24T05:06:32.322143100Z",
     "start_time": "2024-04-24T05:06:32.320629200Z"
    }
   },
   "id": "831b30ae8966329f",
   "execution_count": 5
  },
  {
   "cell_type": "code",
   "outputs": [],
   "source": [],
   "metadata": {
    "collapsed": false,
    "ExecuteTime": {
     "end_time": "2024-04-24T05:06:32.327869900Z",
     "start_time": "2024-04-24T05:06:32.322143100Z"
    }
   },
   "id": "1cc623ec3ae79161",
   "execution_count": 5
  },
  {
   "cell_type": "code",
   "outputs": [],
   "source": [],
   "metadata": {
    "collapsed": false
   },
   "id": "8756ca79cb081f3d",
   "execution_count": null
  }
 ],
 "metadata": {
  "kernelspec": {
   "display_name": "Python 3",
   "language": "python",
   "name": "python3"
  },
  "language_info": {
   "codemirror_mode": {
    "name": "ipython",
    "version": 2
   },
   "file_extension": ".py",
   "mimetype": "text/x-python",
   "name": "python",
   "nbconvert_exporter": "python",
   "pygments_lexer": "ipython2",
   "version": "2.7.6"
  }
 },
 "nbformat": 4,
 "nbformat_minor": 5
}
