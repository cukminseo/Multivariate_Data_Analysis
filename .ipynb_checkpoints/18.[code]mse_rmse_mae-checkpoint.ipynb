{
 "cells": [
  {
   "cell_type": "code",
   "execution_count": null,
   "id": "initial_id",
   "metadata": {
    "collapsed": true
   },
   "outputs": [],
   "source": [
    ""
   ]
  },
  {
   "metadata": {
    "ExecuteTime": {
     "end_time": "2024-06-19T06:30:52.316236Z",
     "start_time": "2024-06-19T06:30:52.198042Z"
    }
   },
   "cell_type": "code",
   "source": [
    "import pandas as pd\n",
    "import numpy as np\n",
    "import math\n",
    "import matplotlib.pyplot as plt\n",
    "import seaborn as sns\n",
    "import warnings\n",
    "# ignore warnings\n",
    "warnings.filterwarnings('ignore')\n",
    "##### Read & preprocess the data (from kostat) #####\n",
    "df_raw23 = pd.read_csv('data\\\\2023_household.csv',encoding='CP949')\n",
    "selected_cols = [\"조사연도\",\"수도권여부\",\"MD제공용_가구고유번호\",\"가구주_성별코드\",\"가구주_만연령\",\"가구원수\",\"가구주_교육정도_학력코드\",\"가구주_혼인상태코드\",\"자산\",\"부채\",\"처분가능소득(보완)[경상소득(보완)-비소비지출(보완)]\",\"가구주_산업대분류코드\",\"가구주_직업대분류코드\",\"입주형태코드\"]\n",
    "df23 = df_raw23[selected_cols]\n",
    "df23.rename(columns={\"조사연도\":\"year\",\"수도권여부\":\"metro\",\"MD제공용_가구고유번호\":\"id\",\"가구주_성별코드\":\"sex\",\"가구주_만연령\":\"age\",\"가구원수\":\"number\",\"가구주_교육정도_학력코드\":\"education\",\"가구주_혼인상태코드\":\"marriage\",\"자산\":\"asset\",\"부채\":\"debt\",\"처분가능소득(보완)[경상소득(보완)-비소비지출(보완)]\":\"income\",\"가구주_산업대분류코드\":\"industry\",\"가구주_직업대분류코드\":\"job\",\"입주형태코드\":\"house\"},inplace=True)\n",
    "print(df23.info())"
   ],
   "id": "3134d8886e5bd08e",
   "outputs": [
    {
     "name": "stdout",
     "output_type": "stream",
     "text": [
      "<class 'pandas.core.frame.DataFrame'>\n",
      "RangeIndex: 18094 entries, 0 to 18093\n",
      "Data columns (total 14 columns):\n",
      " #   Column     Non-Null Count  Dtype \n",
      "---  ------     --------------  ----- \n",
      " 0   year       18094 non-null  int64 \n",
      " 1   metro      18094 non-null  object\n",
      " 2   id         18094 non-null  int64 \n",
      " 3   sex        18094 non-null  int64 \n",
      " 4   age        18094 non-null  int64 \n",
      " 5   number     18094 non-null  int64 \n",
      " 6   education  18094 non-null  int64 \n",
      " 7   marriage   18094 non-null  int64 \n",
      " 8   asset      18094 non-null  int64 \n",
      " 9   debt       18094 non-null  int64 \n",
      " 10  income     18094 non-null  int64 \n",
      " 11  industry   13356 non-null  object\n",
      " 12  job        13356 non-null  object\n",
      " 13  house      18094 non-null  int64 \n",
      "dtypes: int64(11), object(3)\n",
      "memory usage: 1.9+ MB\n",
      "None\n"
     ]
    }
   ],
   "execution_count": 1
  },
  {
   "metadata": {
    "ExecuteTime": {
     "end_time": "2024-06-19T06:30:52.321654Z",
     "start_time": "2024-06-19T06:30:52.316236Z"
    }
   },
   "cell_type": "code",
   "source": [
    "##### 교육 연수, 나이, 자산 및 소득 간의 상관 관계 분석 #####\n",
    "df1 = df23[['income', 'education', 'asset', 'debt']]\n",
    "print(\"df1.info():\", df1.info())\n"
   ],
   "id": "ad71ffa9d5803cac",
   "outputs": [
    {
     "name": "stdout",
     "output_type": "stream",
     "text": [
      "<class 'pandas.core.frame.DataFrame'>\n",
      "RangeIndex: 18094 entries, 0 to 18093\n",
      "Data columns (total 4 columns):\n",
      " #   Column     Non-Null Count  Dtype\n",
      "---  ------     --------------  -----\n",
      " 0   income     18094 non-null  int64\n",
      " 1   education  18094 non-null  int64\n",
      " 2   asset      18094 non-null  int64\n",
      " 3   debt       18094 non-null  int64\n",
      "dtypes: int64(4)\n",
      "memory usage: 565.6 KB\n",
      "df1.info(): None\n"
     ]
    }
   ],
   "execution_count": 2
  },
  {
   "metadata": {
    "ExecuteTime": {
     "end_time": "2024-06-19T06:30:52.331458Z",
     "start_time": "2024-06-19T06:30:52.322658Z"
    }
   },
   "cell_type": "code",
   "source": [
    "### 1. 교육 코드를 교육 연수로 변경하기 ###\n",
    "\n",
    "def changing_edu_year(x):\n",
    "    if x == 2:\n",
    "        return 6  # 초등학교 (6년)\n",
    "    if x == 3:\n",
    "        return 9  # 중학교 (9년)\n",
    "    if x == 4:\n",
    "        return 12  # 고등학교 (12년)\n",
    "    if x == 5:\n",
    "        return 14  # 대학(3년제 이하) (14년)\n",
    "    if x == 6:\n",
    "        return 16  # 대학교(4년제 이상) (16년)\n",
    "    if x == 7:\n",
    "        return 18  # 대학원 석사 (18년)\n",
    "    if x == 8:\n",
    "        return 21  # 대학원 박사 이상 (21년)\n",
    "    else:\n",
    "        return 0  # 안 받음(미취학 포함) (0년)\n",
    "\n",
    "df1['education_year'] = df1['education'].apply(changing_edu_year)  # education 열을 education_year 열로 변환\n",
    "df1 = df1.drop(['education'], axis=1)  # 기존의 education 열을 삭제\n",
    "print(df1.info())  # df1 데이터프레임 정보 출력\n",
    "\n",
    "# 참고: 교육 수준과 해당 교육 연수\n",
    "# 1: 안 받음(미취학 포함) (0년)\n",
    "# 2: 초등학교 (6년)\n",
    "# 3: 중학교 (9년)\n",
    "# 4: 고등학교 (12년)\n",
    "# 5: 대학(3년제 이하) (14년)\n",
    "# 6: 대학교(4년제 이상) (16년)\n",
    "# 7: 대학원 석사 (18년)\n",
    "# 8: 대학원 박사 이상 (21년)\n"
   ],
   "id": "3d322502b2f1d4a7",
   "outputs": [
    {
     "name": "stdout",
     "output_type": "stream",
     "text": [
      "<class 'pandas.core.frame.DataFrame'>\n",
      "RangeIndex: 18094 entries, 0 to 18093\n",
      "Data columns (total 4 columns):\n",
      " #   Column          Non-Null Count  Dtype\n",
      "---  ------          --------------  -----\n",
      " 0   income          18094 non-null  int64\n",
      " 1   asset           18094 non-null  int64\n",
      " 2   debt            18094 non-null  int64\n",
      " 3   education_year  18094 non-null  int64\n",
      "dtypes: int64(4)\n",
      "memory usage: 565.6 KB\n",
      "None\n"
     ]
    }
   ],
   "execution_count": 3
  },
  {
   "metadata": {},
   "cell_type": "markdown",
   "source": "$r = \\frac{\\sum_{i=1}^{n} (x_i - \\bar{x})(y_i - \\bar{y})}{(n-1) \\cdot \\text{SD}_x \\cdot \\text{SD}_y}$\n",
   "id": "b39619604521e21a"
  },
  {
   "metadata": {},
   "cell_type": "markdown",
   "source": [
    "\n",
    "### 수식:\n",
    "$r = \\frac{\\sum_{i=1}^{n} (x_i - \\bar{x})(y_i - \\bar{y})}{(n-1) \\cdot \\text{SD}_x \\cdot \\text{SD}_y}$"
   ],
   "id": "b71d58105f283988"
  },
  {
   "metadata": {
    "ExecuteTime": {
     "end_time": "2024-06-19T06:30:52.335500Z",
     "start_time": "2024-06-19T06:30:52.331458Z"
    }
   },
   "cell_type": "code",
   "source": [
    "### 2. 상관 계수 계산하기 ###\n",
    "\n",
    "def de_mean(x):\n",
    "    x_bar = np.mean(x)  # 평균 계산\n",
    "    return [i - x_bar for i in x]  # 각 값에서 평균을 뺀 값 반환\n",
    "\n",
    "def covariance(x, y):\n",
    "    n = len(x)  # 데이터의 길이\n",
    "    return np.dot(de_mean(x), de_mean(y)) / (n - 1)  # 공분산 계산, dot이 sum기능을 포함함ㅎ \n",
    "\n",
    "def standard_dev(x):\n",
    "    n = len(x)  # 데이터의 길이\n",
    "    dev = de_mean(x)  # 각 값에서 평균을 뺀 값\n",
    "    ss = sum(list(map(lambda a: a * a, dev)))  # 편차 제곱의 합\n",
    "    var = ss / (n - 1)  # 분산 계산\n",
    "    return math.sqrt(var)  # 표준 편차 반환\n",
    "\n",
    "def correlation(x, y):\n",
    "    stdev_x = standard_dev(x)  # x의 표준 편차\n",
    "    stdev_y = standard_dev(y)  # y의 표준 편차\n",
    "    return np.round(covariance(x, y) / (stdev_x * stdev_y), 2)  # 상관 계수 계산 후 소수점 둘째 자리까지 반올림\n"
   ],
   "id": "9141042dbb9cae4a",
   "outputs": [],
   "execution_count": 4
  },
  {
   "metadata": {
    "ExecuteTime": {
     "end_time": "2024-06-19T06:30:52.360946Z",
     "start_time": "2024-06-19T06:30:52.335500Z"
    }
   },
   "cell_type": "code",
   "source": [
    "### 2. 상관 계수 계산하기 ###\n",
    "\n",
    "col1 = 0  # 첫 번째 열 인덱스\n",
    "col2 = 1  # 두 번째 열 인덱스\n",
    "x = df1.iloc[:, col1]  # 첫 번째 열 데이터\n",
    "y = df1.iloc[:, col2]  # 두 번째 열 데이터\n",
    "\n",
    "print(\"\\n ### 상관 계수 ###\")\n",
    "print(\"r (\" + df1.columns[col1] + \",\" + df1.columns[col2] + \") : \", correlation(x, y))  # 상관 계수 계산 및 출력\n"
   ],
   "id": "3d592afdd56f43a6",
   "outputs": [
    {
     "name": "stdout",
     "output_type": "stream",
     "text": [
      "\n",
      " ### 상관 계수 ###\n",
      "r (income,asset) :  0.44\n"
     ]
    }
   ],
   "execution_count": 5
  },
  {
   "metadata": {
    "ExecuteTime": {
     "end_time": "2024-06-19T06:30:52.496069Z",
     "start_time": "2024-06-19T06:30:52.360946Z"
    }
   },
   "cell_type": "code",
   "source": [
    "### 3. 상관 행렬 계산하기 ###\n",
    "\n",
    "corr = df1.corr()  # df1 데이터프레임의 상관 행렬 계산\n",
    "print(\"df1의 상관 행렬: \\n\", corr)  # 상관 행렬 출력\n",
    "\n",
    "plt.figure(figsize=(5, 5))  # 그래프 크기 설정\n",
    "sns.heatmap(data=corr, annot=True, fmt='.2f', linewidths=.5, cmap='Blues')  # 상관 행렬을 히트맵으로 시각화\n",
    "plt.show()  # 히트맵 표시\n"
   ],
   "id": "defc4b8a2c785d13",
   "outputs": [
    {
     "name": "stdout",
     "output_type": "stream",
     "text": [
      "df1의 상관 행렬: \n",
      "                   income     asset      debt  education_year\n",
      "income          1.000000  0.436076  0.236248        0.371606\n",
      "asset           0.436076  1.000000  0.595087        0.252325\n",
      "debt            0.236248  0.595087  1.000000        0.204214\n",
      "education_year  0.371606  0.252325  0.204214        1.000000\n"
     ]
    },
    {
     "data": {
      "text/plain": [
       "<Figure size 500x500 with 2 Axes>"
      ],
      "image/png": "[encoded data removed]"
     },
     "metadata": {},
     "output_type": "display_data"
    }
   ],
   "execution_count": 6
  },
  {
   "metadata": {},
   "cell_type": "markdown",
   "source": "## 소득과 순자산 간의 회귀 분석",
   "id": "e1deac6d963e88de"
  },
  {
   "metadata": {
    "ExecuteTime": {
     "end_time": "2024-06-19T06:30:52.620771Z",
     "start_time": "2024-06-19T06:30:52.496069Z"
    }
   },
   "cell_type": "code",
   "source": [
    "##### 소득과 순자산 간의 회귀 분석 #####\n",
    "\n",
    "from statsmodels.formula.api import ols\n",
    "\n",
    "df2 = df23.copy()  # df23 데이터프레임을 df2로 복사\n",
    "df2['income'] = df2['income'] / 10000  # 단위 조정: 10,000원 -> 100만 원 (만원 -> 억원)\n",
    "df2['net_asset'] = df2['asset'] / 10000 - df2['debt'] / 10000  # 순자산 계산: 자산 - 부채\n",
    "df2 = df2.loc[df2['number'].isin([1]) & (df2['age'] >= 30) & (df2['age'] < 39)]  # 1인 가구이면서 나이가 30세 이상 39세 미만인 데이터 선택\n",
    "df2 = df2[['income', 'net_asset']]  # 필요한 열만 선택\n",
    "\n",
    "asset_model = ols(\"net_asset ~ income\", data=df2).fit()  # 소득을 독립 변수로, 순자산을 종속 변수로 하는 회귀 모델 적합\n",
    "print(asset_model.summary())  # 회귀 분석 요약 결과 출력\n"
   ],
   "id": "1e0eb27025380b45",
   "outputs": [
    {
     "name": "stdout",
     "output_type": "stream",
     "text": [
      "                            OLS Regression Results                            \n",
      "==============================================================================\n",
      "Dep. Variable:              net_asset   R-squared:                       0.153\n",
      "Model:                            OLS   Adj. R-squared:                  0.151\n",
      "Method:                 Least Squares   F-statistic:                     100.3\n",
      "Date:                Wed, 19 Jun 2024   Prob (F-statistic):           8.23e-22\n",
      "Time:                        15:30:52   Log-Likelihood:                -962.77\n",
      "No. Observations:                 559   AIC:                             1930.\n",
      "Df Residuals:                     557   BIC:                             1938.\n",
      "Df Model:                           1                                         \n",
      "Covariance Type:            nonrobust                                         \n",
      "==============================================================================\n",
      "                 coef    std err          t      P>|t|      [0.025      0.975]\n",
      "------------------------------------------------------------------------------\n",
      "Intercept      0.1234      0.121      1.016      0.310      -0.115       0.362\n",
      "income         3.1474      0.314     10.013      0.000       2.530       3.765\n",
      "==============================================================================\n",
      "Omnibus:                      347.115   Durbin-Watson:                   1.987\n",
      "Prob(Omnibus):                  0.000   Jarque-Bera (JB):             3326.813\n",
      "Skew:                           2.650   Prob(JB):                         0.00\n",
      "Kurtosis:                      13.711   Cond. No.                         6.13\n",
      "==============================================================================\n",
      "\n",
      "Notes:\n",
      "[1] Standard Errors assume that the covariance matrix of the errors is correctly specified.\n"
     ]
    }
   ],
   "execution_count": 7
  },
  {
   "metadata": {},
   "cell_type": "markdown",
   "source": "![](MDA18_1.png)",
   "id": "b9a56e4f156eb13d"
  },
  {
   "metadata": {
    "ExecuteTime": {
     "end_time": "2024-06-19T06:30:52.702264Z",
     "start_time": "2024-06-19T06:30:52.695601Z"
    }
   },
   "cell_type": "code",
   "source": [
    "######### RMSE 계산 ###########\n",
    "print(\"절편과 기울기: \\n\", asset_model.params)  # 회귀 모델의 절편과 기울기 출력\n",
    "df2['predicted'] = asset_model.params[0] + df2['income'] * asset_model.params[1]  # 예측된 순자산 계산\n",
    "df2['error'] = df2['net_asset'] - df2['predicted']  # 실제 순자산과 예측된 순자산의 차이(오차) 계산\n",
    "print(\"df2.head(): \", df2.head())  # df2 데이터프레임의 처음 몇 개의 행 출력\n",
    "\n",
    "rmse = np.sqrt(np.sum(df2['error']**2) / (len(df2['error']) - 2))  # RMSE 계산\n",
    "print(\"RMSE : \", np.round(rmse, 2))  # RMSE 출력\n"
   ],
   "id": "d7cc2b94d421b539",
   "outputs": [
    {
     "name": "stdout",
     "output_type": "stream",
     "text": [
      "절편과 기울기: \n",
      " Intercept    0.123371\n",
      "income       3.147408\n",
      "dtype: float64\n",
      "df2.head():      income  net_asset  predicted     error\n",
      "2   0.2892      0.141   1.033601 -0.892601\n",
      "30  0.2246      0.507   0.830278 -0.323278\n",
      "31  0.0825      0.436   0.383032  0.052968\n",
      "43  0.5679      8.120   1.910783  6.209217\n",
      "44  0.2830      1.064   1.014087  0.049913\n",
      "RMSE :  1.36\n"
     ]
    }
   ],
   "execution_count": 8
  },
  {
   "metadata": {
    "ExecuteTime": {
     "end_time": "2024-06-19T06:30:53.147492Z",
     "start_time": "2024-06-19T06:30:53.143221Z"
    }
   },
   "cell_type": "code",
   "source": [
    "## 소득이 5천만 원인 30대 1인 가구가 순자산 2억 원 이상일 확률 계산 ###\n",
    "import scipy.stats as st\n",
    "\n",
    "intercept = asset_model.params[0]  # 회귀 모델의 절편\n",
    "slope = asset_model.params[1]  # 회귀 모델의 기울기\n",
    "income = 0.5  # 소득 5천만 원 (단위: 억 원)\n",
    "asset_mn = intercept + income * slope  # 소득이 5천만 원일 때의 예상 평균 자산\n",
    "print(\"소득이 5천만 원인 사람들의 평균 자산: \", asset_mn)\n",
    "\n",
    "dif = 2 - asset_mn  # 2억 원과 평균 자산의 차이\n",
    "z = dif / rmse  # z-점수 계산\n",
    "print(\"자산의 z-점수: \", np.round(z, 3))\n",
    "\n",
    "p_value = 1 - st.norm.cdf(z)  # z-점수를 사용하여 순자산이 2억 원 이상일 확률 계산\n",
    "print(\"p-값 (순자산이 2억 원 이상일 확률): \", np.round(p_value, 2))\n"
   ],
   "id": "e4dc92e19ea26cc2",
   "outputs": [
    {
     "name": "stdout",
     "output_type": "stream",
     "text": [
      "소득이 5천만 원인 사람들의 평균 자산:  1.6970744229952686\n",
      "자산의 z-점수:  0.223\n",
      "p-값 (순자산이 2억 원 이상일 확률):  0.41\n"
     ]
    }
   ],
   "execution_count": 9
  },
  {
   "metadata": {},
   "cell_type": "markdown",
   "source": "소득이 5천만 원인 30대 1인 가구가 순자산 2억 원 이상을 가질 확률은 41%입니다.",
   "id": "a1586ae0b2515b4a"
  },
  {
   "metadata": {},
   "cell_type": "markdown",
   "source": "![img](18.code_4.png)",
   "id": "5f22bc87bc635d0b"
  },
  {
   "metadata": {},
   "cell_type": "code",
   "outputs": [],
   "execution_count": null,
   "source": "",
   "id": "43aef4cd93065721"
  },
  {
   "metadata": {},
   "cell_type": "markdown",
   "source": "",
   "id": "974c23f316680449"
  }
 ],
 "metadata": {
  "kernelspec": {
   "display_name": "Python 3",
   "language": "python",
   "name": "python3"
  },
  "language_info": {
   "codemirror_mode": {
    "name": "ipython",
    "version": 2
   },
   "file_extension": ".py",
   "mimetype": "text/x-python",
   "name": "python",
   "nbconvert_exporter": "python",
   "pygments_lexer": "ipython2",
   "version": "2.7.6"
  }
 },
 "nbformat": 4,
 "nbformat_minor": 5
}
