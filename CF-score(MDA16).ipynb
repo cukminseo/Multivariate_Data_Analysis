{
 "cells": [
  {
   "cell_type": "code",
   "id": "initial_id",
   "metadata": {
    "collapsed": true,
    "ExecuteTime": {
     "end_time": "2024-06-17T17:36:20.794738Z",
     "start_time": "2024-06-17T17:36:20.676361Z"
    }
   },
   "source": [
    "import pandas as pd\n",
    "import numpy as np\n",
    "import matplotlib.pyplot as plt\n",
    "import seaborn as sns\n",
    "import warnings\n",
    "# ignore warnings\n",
    "import scipy.stats as stats\n",
    "warnings.filterwarnings('ignore')\n",
    "##### Read & preprocess the data (from kostat) #####\n",
    "df_raw23 = pd.read_csv('data\\\\2023_household.csv',encoding='CP949')\n",
    "selected_cols = [\"조사연도\",\"수도권여부\",\"MD제공용_가구고유번호\",\"가구주_성별코드\",\"가구주_만연령\",\"가구원수\",\"가구주_교육정도_학력코드\",\"가구주_혼인상태코드\",\"자산\",\"부채\",\"처분가능소득(보완)[경상소득(보완)-비소비지출(보완)]\",\"가구주_산업대분류코드\",\"가구주_직업대분류코드\",\"입주형태코드\"]\n",
    "df23 = df_raw23[selected_cols]\n",
    "df23.rename(columns={\"조사연도\":\"year\",\"수도권여부\":\"metro\",\"MD제공용_가구고유번호\":\"id\",\"가구주_성별코드\":\"sex\",\"가구주_만연령\":\"age\",\"가구원수\":\"number\",\"가구주_교육정도_학력코드\":\"education\",\"가구주_혼인상태코드\":\"marriage\",\"자산\":\"asset\",\"부채\":\"debt\",\"처분가능소득(보완)[경상소득(보완)-비소비지출(보완)]\":\"income\",\"가구주_산업대분류코드\":\"industry\",\"가구주_직업대분류코드\":\"job\",\"입주형태코드\":\"house\"},inplace=True)\n",
    "print(df23.info())"
   ],
   "outputs": [
    {
     "name": "stdout",
     "output_type": "stream",
     "text": [
      "<class 'pandas.core.frame.DataFrame'>\n",
      "RangeIndex: 18094 entries, 0 to 18093\n",
      "Data columns (total 14 columns):\n",
      " #   Column     Non-Null Count  Dtype \n",
      "---  ------     --------------  ----- \n",
      " 0   year       18094 non-null  int64 \n",
      " 1   metro      18094 non-null  object\n",
      " 2   id         18094 non-null  int64 \n",
      " 3   sex        18094 non-null  int64 \n",
      " 4   age        18094 non-null  int64 \n",
      " 5   number     18094 non-null  int64 \n",
      " 6   education  18094 non-null  int64 \n",
      " 7   marriage   18094 non-null  int64 \n",
      " 8   asset      18094 non-null  int64 \n",
      " 9   debt       18094 non-null  int64 \n",
      " 10  income     18094 non-null  int64 \n",
      " 11  industry   13356 non-null  object\n",
      " 12  job        13356 non-null  object\n",
      " 13  house      18094 non-null  int64 \n",
      "dtypes: int64(11), object(3)\n",
      "memory usage: 1.9+ MB\n",
      "None\n"
     ]
    }
   ],
   "execution_count": 11
  },
  {
   "cell_type": "code",
   "source": [
    "##### Test of income difference according to occupation #####\n",
    "##### occupational types #####\n",
    "# 1 : 관리자\n",
    "# 2 : 전문가 및 관련 종사자\n",
    "# 3 : 사무 종사자\n",
    "# 4 : 서비스 종사자\n",
    "# 5 : 판매 종사자\n",
    "# 6 : 농림어업 숙련？종사자\n",
    "# 7 : 기능원 및 관련 기능 종사자\n",
    "# 8 : 장치,기계조작 및 조립 종사자\n",
    "# 9 : 단순노무 종사자\n",
    "# A : 군인\n",
    "print(\"Job category : \", df23['job'].unique())\n",
    "df23 = df23[['sex','job']]\n",
    "print(df23.info())"
   ],
   "metadata": {
    "collapsed": false,
    "ExecuteTime": {
     "end_time": "2024-06-17T17:36:21.571821Z",
     "start_time": "2024-06-17T17:36:21.564997Z"
    }
   },
   "id": "1f6cceae3448250d",
   "outputs": [
    {
     "name": "stdout",
     "output_type": "stream",
     "text": [
      "Job category :  ['4' '5' '2' '9' nan '3' '8' '7' '1' '6' 'A']\n",
      "<class 'pandas.core.frame.DataFrame'>\n",
      "RangeIndex: 18094 entries, 0 to 18093\n",
      "Data columns (total 2 columns):\n",
      " #   Column  Non-Null Count  Dtype \n",
      "---  ------  --------------  ----- \n",
      " 0   sex     18094 non-null  int64 \n",
      " 1   job     13356 non-null  object\n",
      "dtypes: int64(1), object(1)\n",
      "memory usage: 282.8+ KB\n",
      "None\n"
     ]
    }
   ],
   "execution_count": 12
  },
  {
   "cell_type": "code",
   "source": [
    "print(\"# of nulls :\", df23['job'].isnull().sum())\n",
    "df23 = df23.dropna()\n",
    "print(df23.info())"
   ],
   "metadata": {
    "collapsed": false,
    "ExecuteTime": {
     "end_time": "2024-06-17T17:36:22.606365Z",
     "start_time": "2024-06-17T17:36:22.599270Z"
    }
   },
   "id": "fd2481aad35ace6a",
   "outputs": [
    {
     "name": "stdout",
     "output_type": "stream",
     "text": [
      "# of nulls : 4738\n",
      "<class 'pandas.core.frame.DataFrame'>\n",
      "Index: 13356 entries, 0 to 18093\n",
      "Data columns (total 2 columns):\n",
      " #   Column  Non-Null Count  Dtype \n",
      "---  ------  --------------  ----- \n",
      " 0   sex     13356 non-null  int64 \n",
      " 1   job     13356 non-null  object\n",
      "dtypes: int64(1), object(1)\n",
      "memory usage: 313.0+ KB\n",
      "None\n"
     ]
    }
   ],
   "execution_count": 13
  },
  {
   "cell_type": "code",
   "source": [
    "##### Option: Removal of groups (soldiers) comprised mostly of men. (as a duty in Korea)#####\n",
    "## 군인같은 특수 카테고리 없애기(특히 군인은 남성같은 경우 원하지 않은 직업선택일 수 있으므로 비교에 부적합)\n",
    "df23 = df23.drop(df23[(df23.job==\"A\")].index)\n",
    "print(df23.info())"
   ],
   "metadata": {
    "collapsed": false,
    "ExecuteTime": {
     "end_time": "2024-06-17T17:36:23.591158Z",
     "start_time": "2024-06-17T17:36:23.584238Z"
    }
   },
   "id": "6c578d200d96eafe",
   "outputs": [
    {
     "name": "stdout",
     "output_type": "stream",
     "text": [
      "<class 'pandas.core.frame.DataFrame'>\n",
      "Index: 13330 entries, 0 to 18093\n",
      "Data columns (total 2 columns):\n",
      " #   Column  Non-Null Count  Dtype \n",
      "---  ------  --------------  ----- \n",
      " 0   sex     13330 non-null  int64 \n",
      " 1   job     13330 non-null  object\n",
      "dtypes: int64(1), object(1)\n",
      "memory usage: 312.4+ KB\n",
      "None\n"
     ]
    }
   ],
   "execution_count": 14
  },
  {
   "cell_type": "code",
   "source": [
    "##### Display the observation frequency: Gender distribution by job #####\n",
    "print(\"##### Observation Frequency #####\")\n",
    "tab1 = pd.crosstab(df23.sex, df23.job, margins=True) #margins=True : Include total values\n",
    "tab2 = pd.crosstab(df23.sex, df23.job) #margins=True : Include total values\n",
    "print(tab1)"
   ],
   "metadata": {
    "collapsed": false,
    "ExecuteTime": {
     "end_time": "2024-06-17T17:36:27.539569Z",
     "start_time": "2024-06-17T17:36:27.522048Z"
    }
   },
   "id": "2d383514a5b05fa1",
   "outputs": [
    {
     "name": "stdout",
     "output_type": "stream",
     "text": [
      "##### Observation Frequency #####\n",
      "job    1     2     3     4     5     6     7     8     9    All\n",
      "sex                                                            \n",
      "1    285  1572  1519   581   808  1024  1371  1716  1339  10215\n",
      "2     17   542   388   701   327   192    76    78   794   3115\n",
      "All  302  2114  1907  1282  1135  1216  1447  1794  2133  13330\n"
     ]
    }
   ],
   "execution_count": 15
  },
  {
   "cell_type": "code",
   "source": "print(tab2)",
   "metadata": {
    "collapsed": false,
    "ExecuteTime": {
     "end_time": "2024-06-17T17:36:29.744958Z",
     "start_time": "2024-06-17T17:36:29.741043Z"
    }
   },
   "id": "19efa0ac0bb8b361",
   "outputs": [
    {
     "name": "stdout",
     "output_type": "stream",
     "text": [
      "job    1     2     3    4    5     6     7     8     9\n",
      "sex                                                   \n",
      "1    285  1572  1519  581  808  1024  1371  1716  1339\n",
      "2     17   542   388  701  327   192    76    78   794\n"
     ]
    }
   ],
   "execution_count": 16
  },
  {
   "cell_type": "markdown",
   "source": "",
   "metadata": {
    "collapsed": false
   },
   "id": "887aee13af830d6a"
  },
  {
   "cell_type": "code",
   "source": [
    "##### Calculate the expected frequency #####\n",
    "### number of people\n",
    "tot = tab1.iloc[-1, -1]  # total number of people (13330)\n",
    "\n",
    "j_1 = tab1.iloc[-1, 0]   # 실제 직업1을 가진 사람 수\n",
    "j_2 = tab1.iloc[-1, 1]\n",
    "j_3 = tab1.iloc[-1, 2]\n",
    "j_4 = tab1.iloc[-1, 3]\n",
    "j_5 = tab1.iloc[-1, 4]\n",
    "j_6 = tab1.iloc[-1, 5]\n",
    "j_7 = tab1.iloc[-1, 6]\n",
    "j_8 = tab1.iloc[-1, 7]\n",
    "j_9 = tab1.iloc[-1, 8]\n",
    "\n",
    "tot_m = tab1.iloc[0, -1]  # 실제 남자 인원수 (10215)\n",
    "tot_f = tab1.iloc[1, -1]  # 실제 여자 인원수 (3115)\n"
   ],
   "metadata": {
    "collapsed": false,
    "ExecuteTime": {
     "end_time": "2024-06-17T17:36:32.152043Z",
     "start_time": "2024-06-17T17:36:32.147490Z"
    }
   },
   "id": "adac1d33b95c706c",
   "outputs": [],
   "execution_count": 17
  },
  {
   "cell_type": "code",
   "source": [
    "##### Calculate the expected frequency #####\n",
    "### make the tab2\n",
    "tab2 = pd.crosstab(df23.sex, df23.job, margins=True)\n",
    "\n",
    "p_m = tot_m / tot  # 전체 인구 중 남자인구의 비율\n",
    "p_f = tot_f / tot  # 전체 인구 중 여자인구의 비율\n",
    "\n",
    "p_j1 = j_1 / tot   #전체 직업 중 1번 직업의 비율\n",
    "p_j2 = j_2 / tot\n",
    "p_j3 = j_3 / tot\n",
    "p_j4 = j_4 / tot\n",
    "p_j5 = j_5 / tot\n",
    "p_j6 = j_6 / tot\n",
    "p_j7 = j_7 / tot\n",
    "p_j8 = j_8 / tot\n",
    "p_j9 = j_9 / tot\n",
    "\n",
    "# Expected # of men in each occupation\n",
    "tab2.iloc[0, 0] = tot * p_m * p_j1 # 이상적인 직업 1중 남자의 명수(전체*남자비율 = 남자인원, 남자인원* 직업1비율)\n",
    "tab2.iloc[0, 1] = tot * p_m * p_j2\n",
    "tab2.iloc[0, 2] = tot * p_m * p_j3\n",
    "tab2.iloc[0, 3] = tot * p_m * p_j4\n",
    "tab2.iloc[0, 4] = tot * p_m * p_j5\n",
    "tab2.iloc[0, 5] = tot * p_m * p_j6\n",
    "tab2.iloc[0, 6] = tot * p_m * p_j7\n",
    "tab2.iloc[0, 7] = tot * p_m * p_j8\n",
    "tab2.iloc[0, 8] = tot * p_m * p_j9\n",
    "tab2.iloc[0, 9] = sum(tab2.iloc[0, 0:9])\n",
    "\n",
    "# Expected # of women in each occupation\n",
    "tab2.iloc[1, 0] = tot * p_f * p_j1\n",
    "tab2.iloc[1, 1] = tot * p_f * p_j2\n",
    "tab2.iloc[1, 2] = tot * p_f * p_j3\n",
    "tab2.iloc[1, 3] = tot * p_f * p_j4\n",
    "tab2.iloc[1, 4] = tot * p_f * p_j5\n",
    "tab2.iloc[1, 5] = tot * p_f * p_j6\n",
    "tab2.iloc[1, 6] = tot * p_f * p_j7\n",
    "tab2.iloc[1, 7] = tot * p_f * p_j8\n",
    "tab2.iloc[1, 8] = tot * p_f * p_j9\n",
    "tab2.iloc[1, 9] = sum(tab2.iloc[1, 0:9])"
   ],
   "metadata": {
    "collapsed": false,
    "ExecuteTime": {
     "end_time": "2024-06-17T17:36:35.152614Z",
     "start_time": "2024-06-17T17:36:35.134796Z"
    }
   },
   "id": "dcf25303ee37c085",
   "outputs": [],
   "execution_count": 18
  },
  {
   "metadata": {
    "ExecuteTime": {
     "end_time": "2024-06-17T17:36:36.746326Z",
     "start_time": "2024-06-17T17:36:36.741554Z"
    }
   },
   "cell_type": "code",
   "source": [
    "##### Calculate the expected frequency #####\n",
    "##### Display the observation frequency: Gender distribution by job #####\n",
    "print (\"##### Expected Frequency####\")\n",
    "print (tab2)"
   ],
   "id": "b290a707144a32ad",
   "outputs": [
    {
     "name": "stdout",
     "output_type": "stream",
     "text": [
      "##### Expected Frequency####\n",
      "job           1            2            3            4            5  \\\n",
      "sex                                                                   \n",
      "1    231.427607  1619.993248  1461.365716   982.417854   869.769317   \n",
      "2     70.572393   494.006752   445.634284   299.582146   265.230683   \n",
      "All  302.000000  2114.000000  1907.000000  1282.000000  1135.000000   \n",
      "\n",
      "job           6           7            8            9      All  \n",
      "sex                                                             \n",
      "1     931.84096  1108.86009  1374.771943  1634.553263  10215.0  \n",
      "2     284.15904   338.13991   419.228057   498.446737   3115.0  \n",
      "All  1216.00000  1447.00000  1794.000000  2133.000000  13330.0  \n"
     ]
    }
   ],
   "execution_count": 19
  },
  {
   "metadata": {
    "ExecuteTime": {
     "end_time": "2024-06-17T18:29:36.813302Z",
     "start_time": "2024-06-17T18:29:36.795271Z"
    }
   },
   "cell_type": "code",
   "source": [
    "##### Observation - Expectation #####\n",
    "############# diff 구하기 ############\n",
    "tab3 = pd.crosstab(df23.sex, df23.job, margins=True)\n",
    "\n",
    "num_rows = tab3.shape[0]\n",
    "num_cols = tab3.shape[1]\n",
    "\n",
    "for i in range(num_rows):\n",
    "    for j in range(num_cols):\n",
    "        tab3.iloc[i, j] = tab1.iloc[i, j] - tab2.iloc[i, j]\n",
    "\n",
    "print(\"##### Observations - Expected #####\")\n",
    "print(tab3)\n"
   ],
   "id": "47ed4a853fdeba59",
   "outputs": [
    {
     "name": "stdout",
     "output_type": "stream",
     "text": [
      "##### Observations - Expected #####\n",
      "job          1          2          3           4          5         6  \\\n",
      "sex                                                                     \n",
      "1    53.572393 -47.993248  57.634284 -401.417854 -61.769317  92.15904   \n",
      "2   -53.572393  47.993248 -57.634284  401.417854  61.769317 -92.15904   \n",
      "All   0.000000   0.000000   0.000000    0.000000   0.000000   0.00000   \n",
      "\n",
      "job          7           8           9           All  \n",
      "sex                                                   \n",
      "1    262.13991  341.228057 -295.553263  0.000000e+00  \n",
      "2   -262.13991 -341.228057  295.553263  4.547474e-13  \n",
      "All    0.00000    0.000000    0.000000  0.000000e+00  \n"
     ]
    }
   ],
   "execution_count": 20
  },
  {
   "metadata": {
    "ExecuteTime": {
     "end_time": "2024-06-17T18:31:36.641470Z",
     "start_time": "2024-06-17T18:31:36.633492Z"
    }
   },
   "cell_type": "code",
   "source": [
    "##### Chi-square score #####\n",
    "chi_square = []\n",
    "\n",
    "for i in range(num_rows):\n",
    "    for j in range(num_cols):\n",
    "        t = (tab1.iloc[i, j] - tab2.iloc[i, j])**2 / tab2.iloc[i, j]\n",
    "        chi_square.append(t)\n",
    "\n",
    "DF = (num_rows - 1) * (num_cols - 1)\n",
    "chi_square_tot = sum(chi_square)\n",
    "print(\"Chi-square score:\", round(chi_square_tot, 4))\n",
    "\n",
    "##### Chi-square test #####\n",
    "import scipy.stats as stats\n",
    "p_value = 1 - stats.chi2.cdf(chi_square_tot, DF)\n",
    "print(\"P-value:\", p_value)\n"
   ],
   "id": "7e0f7a8efc2be47b",
   "outputs": [
    {
     "name": "stdout",
     "output_type": "stream",
     "text": [
      "Chi-square score: 1684.8632\n",
      "P-value: 0.0\n"
     ]
    }
   ],
   "execution_count": 21
  },
  {
   "metadata": {},
   "cell_type": "markdown",
   "source": "Exp4. ANOVA",
   "id": "307ba18bfb2b4e71"
  },
  {
   "metadata": {},
   "cell_type": "code",
   "outputs": [],
   "execution_count": null,
   "source": [
    "import pandas as pd\n",
    "import numpy as np\n",
    "import matplotlib.pyplot as plt\n",
    "import seaborn as sns\n",
    "import warnings\n",
    "\n",
    "# ignore warnings\n",
    "warnings.filterwarnings('ignore')\n",
    "\n",
    "##### Read & preprocess the data (from kostat) #####\n",
    "df_raw23 = pd.read_csv('data\\\\2023_household.csv', encoding='CP949')\n",
    "\n",
    "selected_cols = [\n",
    "    \"조사연도\", \"수도권여부\", \"MD제공용_가구고유번호\", \"가구주_성별코드\", \"가구주_만연령\", \"가구원수\",\n",
    "    \"가구주_교육정도_학력코드\", \"가구주_혼인상태코드\", \"자산\", \"부채\",\n",
    "    \"처분가능소득(보완)[경상소득(보완)-비소비지출(보완)]\", \"가구주_산업대분류코드\", \"가구주_직업대분류코드\",\n",
    "    \"입주형태코드\"\n",
    "]\n",
    "\n",
    "df23 = df_raw23[selected_cols]\n",
    "df23.rename(columns={\n",
    "    \"조사연도\": \"year\", \"수도권여부\": \"metro\", \"MD제공용_가구고유번호\": \"id\", \"가구주_성별코드\": \"sex\",\n",
    "    \"가구주_만연령\": \"age\", \"가구원수\": \"number\", \"가구주_교육정도_학력코드\": \"education\",\n",
    "    \"가구주_혼인상태코드\": \"marriage\", \"자산\": \"asset\", \"부채\": \"debt\",\n",
    "    \"처분가능소득(보완)[경상소득(보완)-비소비지출(보완)]\": \"income\",\n",
    "    \"가구주_산업대분류코드\": \"industry\", \"가구주_직업대분류코드\": \"job\", \"입주형태코드\": \"house\"\n",
    "}, inplace=True)\n",
    "\n",
    "print(df23.info())\n"
   ],
   "id": "6cbf76c43da272fd"
  },
  {
   "metadata": {},
   "cell_type": "code",
   "outputs": [],
   "execution_count": null,
   "source": [
    "##### Test of income difference according to education level #####\n",
    "df23 = df23[['income', 'education']]\n",
    "print(\"Education Level : \", df23['education'].unique())\n",
    "\n",
    "##### Option : Remove the outliers #####\n",
    "# fare_q3 = df23['income'].quantile(q=0.75)\n",
    "# fare_q1 = df23['income'].quantile(q=0.25)\n",
    "# fare_iqr = fare_q3 - fare_q1\n",
    "# condition = df23['income'] <= 3 * fare_iqr\n",
    "# df23 = df23[condition]\n",
    "\n",
    "##### Group into 3 groups #####\n",
    "target1 = [1, 2, 3]\n",
    "target2 = [4, 5]\n",
    "target3 = [6, 7, 8]\n",
    "\n",
    "df23 = df23.loc[df23['education'].isin(target1 + target2 + target3)]\n",
    "df23_L = df23.loc[df23['education'].isin(target1)]\n",
    "df23_M = df23.loc[df23['education'].isin(target2)]\n",
    "df23_H = df23.loc[df23['education'].isin(target3)]\n",
    "print(df23_L.tail(10))\n",
    "\n",
    "##### Education levels #####\n",
    "# 1: 안받음(미취학포함)\n",
    "# 2: 초등학교\n",
    "# 3: 중학교\n",
    "# 4: 고등학교\n",
    "# 5: 대학(3년제 이하)\n",
    "# 6: 대학교(4년제 이상)\n",
    "# 7: 대학원석사\n",
    "# 8: 대학원박사 이상\n"
   ],
   "id": "7b2910f40b36d2ff"
  },
  {
   "cell_type": "code",
   "outputs": [
    {
     "name": "stdout",
     "output_type": "stream",
     "text": [
      "F-Score: 1315.73855791482\n",
      "P-Value: 1.1102230246251565e-16\n",
      "귀무가설을 기각합니다. 교육 수준에 따른 소득 차이가 유의미합니다.\n"
     ]
    }
   ],
   "source": [
    "##### Select only income data #####\n",
    "df23_ic = df23['income']\n",
    "df23_L_ic = df23_L['income']\n",
    "df23_M_ic = df23_M['income']\n",
    "df23_H_ic = df23_H['income']\n",
    "\n",
    "##### Plot income distribution among three groups #####\n",
    "import seaborn as sns\n",
    "import matplotlib.pyplot as plt\n",
    "\n",
    "plt.figure(figsize=(8, 4))\n",
    "sns.distplot(df23_L_ic, hist=False, label='Low Education')\n",
    "sns.distplot(df23_M_ic, hist=False, label='Medium Education')\n",
    "sns.distplot(df23_H_ic, hist=False, label='High Education')\n",
    "# plt.xlim(-50000, 50000)\n",
    "plt.title('Income Distribution by Education Level')\n",
    "plt.legend()\n",
    "plt.show()\n"
   ],
   "metadata": {
    "collapsed": false,
    "ExecuteTime": {
     "end_time": "2024-05-29T08:42:05.551836Z",
     "start_time": "2024-05-29T08:42:05.530400Z"
    }
   },
   "id": "19471d16faa7b320",
   "execution_count": 15
  },
  {
   "cell_type": "code",
   "outputs": [],
   "source": [
    "##### Calculate the F-score #####\n",
    "\n",
    "### 1. Means of each group\n",
    "mean = df23_ic.mean()\n",
    "mean_L = df23_L_ic.mean()\n",
    "mean_M = df23_M_ic.mean()\n",
    "mean_H = df23_H_ic.mean()\n",
    "print(\"\\n1. Total mean:\", mean)\n",
    "print(\"   Group1's mean:\", mean_L)\n",
    "print(\"   Group2's mean:\", mean_M)\n",
    "print(\"   Group3's mean:\", mean_H)\n",
    "\n",
    "### 2. SSb (Sum of squares of between-group variance)\n",
    "SSb_L = ((mean_L - mean) ** 2) * len(df23_L_ic)\n",
    "SSb_M = ((mean_M - mean) ** 2) * len(df23_M_ic)\n",
    "SSb_H = ((mean_H - mean) ** 2) * len(df23_H_ic)\n",
    "SSb = SSb_L + SSb_M + SSb_H\n",
    "print(\"2. SSb:\", SSb)\n",
    "\n",
    "### 3. SSw (Sum of squares of within-group variance)\n",
    "SSw_L = sum((df23_L_ic - mean_L) ** 2)\n",
    "SSw_M = sum((df23_M_ic - mean_M) ** 2)\n",
    "SSw_H = sum((df23_H_ic - mean_H) ** 2)\n",
    "SSw = SSw_L + SSw_M + SSw_H\n",
    "print(\"3. SSw:\", SSw)\n",
    "\n",
    "### 4. SSt (Sum of squares of total variance)\n",
    "SSt = sum((df23_ic - mean) ** 2)\n",
    "print(\"4. SSt:\", SSt)\n"
   ],
   "metadata": {
    "collapsed": false
   },
   "id": "48671bbbbb103a87",
   "execution_count": null
  },
  {
   "metadata": {},
   "cell_type": "code",
   "outputs": [],
   "execution_count": null,
   "source": [
    "##### Calculate the F-score #####\n",
    "\n",
    "### 5. Degree of freedoms\n",
    "k = 3\n",
    "n = len(df23)\n",
    "DFb = k - 1\n",
    "DFw = n - k\n",
    "DFt = n - 1\n",
    "print(\"5. DFb: %d, DFw: %d, DFt: %d\" % (DFb, DFw, DFt))\n",
    "\n",
    "### 6. Mean squares\n",
    "MSb = SSb / DFb\n",
    "MSw = SSw / DFw\n",
    "print(\"6. MSb: %f, MSw: %f\" % (MSb, MSw))\n"
   ],
   "id": "be653beda8de580d"
  },
  {
   "metadata": {},
   "cell_type": "code",
   "outputs": [],
   "execution_count": null,
   "source": [
    "##### Calculate the F-score #####\n",
    "\n",
    "### 7. F-score\n",
    "f_score = MSb / MSw\n",
    "print(\"\\n7. F_score:\", f_score)\n",
    "\n",
    "### 8. P-value (Significant level)\n",
    "import scipy as sp\n",
    "import scipy.stats\n",
    "\n",
    "rv = sp.stats.f(DFb, DFw)     # A normal continuous random variable (mu=0, var=1)\n",
    "p_value = np.round(1 - rv.cdf(f_score), 5)\n",
    "print(\"8. Significant Level (p-value):\", p_value)\n"
   ],
   "id": "139c83a6748005e4"
  },
  {
   "metadata": {},
   "cell_type": "code",
   "outputs": [],
   "execution_count": null,
   "source": [
    "##### Calculate the F-score #####\n",
    "\n",
    "### 7. F-score\n",
    "f_score = MSb / MSw\n",
    "print(\"\\n7. F_score:\", f_score)\n",
    "\n",
    "### 8. P-value (Significant level)\n",
    "import scipy as sp\n",
    "import scipy.stats\n",
    "\n",
    "rv = sp.stats.f(DFb, DFw)     # A normal continuous random variable (mu=0, var=1)\n",
    "p_value = np.round(1 - rv.cdf(f_score), 5)\n",
    "print(\"8. Significant Level (p-value):\", p_value)\n",
    "\n",
    "##### Hypothesis Test #####\n",
    "print(\"\\n### Hypothesis Test ###\\nConsidering a 5% significance level,\")\n",
    "if p_value < 0.05:\n",
    "    print(\"p_value(%f) < 0.05, therefore reject H0, and accept H1.\" % p_value)\n",
    "else:\n",
    "    print(\"p_value(%f) > 0.05, therefore, Cannot reject H0.\" % p_value)\n",
    "\n",
    "### 9. Another way to get F-score & P-value (Significant level)\n",
    "print(\"\\n*** Another way: \")\n",
    "f_statistics, p_value = sp.stats.f_oneway(df23_L_ic, df23_M_ic, df23_H_ic)\n",
    "print(\"f-score\", f_statistics)\n",
    "print(\"p-value:\", p_value)\n"
   ],
   "id": "8760f340f72d475b"
  },
  {
   "metadata": {},
   "cell_type": "code",
   "outputs": [],
   "execution_count": null,
   "source": "",
   "id": "7ec0c211850dab6d"
  }
 ],
 "metadata": {
  "kernelspec": {
   "display_name": "Python 3",
   "language": "python",
   "name": "python3"
  },
  "language_info": {
   "codemirror_mode": {
    "name": "ipython",
    "version": 2
   },
   "file_extension": ".py",
   "mimetype": "text/x-python",
   "name": "python",
   "nbconvert_exporter": "python",
   "pygments_lexer": "ipython2",
   "version": "2.7.6"
  }
 },
 "nbformat": 4,
 "nbformat_minor": 5
}
