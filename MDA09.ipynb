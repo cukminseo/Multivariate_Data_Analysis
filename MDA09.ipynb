{
 "cells": [
  {
   "cell_type": "code",
   "execution_count": 1,
   "id": "initial_id",
   "metadata": {
    "collapsed": true,
    "ExecuteTime": {
     "end_time": "2024-04-15T02:29:57.947313Z",
     "start_time": "2024-04-15T02:29:57.403679Z"
    }
   },
   "outputs": [
    {
     "name": "stdout",
     "output_type": "stream",
     "text": [
      "<class 'pandas.core.frame.DataFrame'>\n",
      "RangeIndex: 2974 entries, 0 to 2973\n",
      "Data columns (total 4 columns):\n",
      " #   Column         Non-Null Count  Dtype  \n",
      "---  ------         --------------  -----  \n",
      " 0   user_id        2974 non-null   int64  \n",
      " 1   age            2974 non-null   object \n",
      " 2   drinks_coffee  2974 non-null   bool   \n",
      " 3   height         2974 non-null   float64\n",
      "dtypes: bool(1), float64(1), int64(1), object(1)\n",
      "memory usage: 72.7+ KB\n",
      "None\n",
      "   user_id   age  drinks_coffee     height\n",
      "0     4509   <21          False  64.538179\n",
      "1     1864  >=21           True  65.824249\n",
      "2     2060   <21          False  71.319854\n",
      "3     7875  >=21           True  68.569404\n",
      "4     6254   <21           True  64.020226\n"
     ]
    }
   ],
   "source": [
    "import pandas as pd\n",
    "import numpy as np\n",
    "np.random.seed(104)\n",
    "df_sample = pd.read_csv('data/MDA_09_coffee_dataset.csv')\n",
    "print(df_sample.info())\n",
    "print(df_sample.head(5))"
   ]
  },
  {
   "cell_type": "code",
   "outputs": [
    {
     "ename": "IndentationError",
     "evalue": "expected an indented block (2979785765.py, line 4)",
     "output_type": "error",
     "traceback": [
      "\u001B[1;36m  Cell \u001B[1;32mIn[2], line 4\u001B[1;36m\u001B[0m\n\u001B[1;33m    bootSample = df_sample.sample(200, replace=True) # sampling with replacement\u001B[0m\n\u001B[1;37m    ^\u001B[0m\n\u001B[1;31mIndentationError\u001B[0m\u001B[1;31m:\u001B[0m expected an indented block\n"
     ]
    }
   ],
   "source": [
    "iterationNum = 1000\n",
    "diffHeightList = []\n",
    "for _ in range(iterationNum):\n",
    "bootSample = df_sample.sample(200, replace=True) # sampling with replacement\n",
    "# Avg. height of people who don't drink coffee\n",
    "nonCoffeeHeightMean = bootSample[bootSample['drinks_coffee'] == False].height.mean()\n",
    "# Avg. height of people who drink coffee\n",
    "coffeeHeightMean = bootSample[bootSample['drinks_coffee'] == True].height.mean()\n",
    "diff = nonCoffeeHeightMean - coffeeHeightMean\n",
    "diffHeightList.append(diff)"
   ],
   "metadata": {
    "collapsed": false,
    "ExecuteTime": {
     "end_time": "2024-04-15T02:30:10.350515Z",
     "start_time": "2024-04-15T02:30:10.332366Z"
    }
   },
   "id": "22f5c5fce6bec78a",
   "execution_count": 2
  },
  {
   "cell_type": "code",
   "outputs": [],
   "source": [],
   "metadata": {
    "collapsed": false
   },
   "id": "b8e9f5ee0f6bbac0"
  }
 ],
 "metadata": {
  "kernelspec": {
   "display_name": "Python 3",
   "language": "python",
   "name": "python3"
  },
  "language_info": {
   "codemirror_mode": {
    "name": "ipython",
    "version": 2
   },
   "file_extension": ".py",
   "mimetype": "text/x-python",
   "name": "python",
   "nbconvert_exporter": "python",
   "pygments_lexer": "ipython2",
   "version": "2.7.6"
  }
 },
 "nbformat": 4,
 "nbformat_minor": 5
}
