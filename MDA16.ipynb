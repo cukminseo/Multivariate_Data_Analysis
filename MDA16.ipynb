{
 "cells": [
  {
   "cell_type": "code",
   "execution_count": 12,
   "id": "initial_id",
   "metadata": {
    "collapsed": true,
    "ExecuteTime": {
     "end_time": "2024-05-29T08:41:37.111Z",
     "start_time": "2024-05-29T08:41:36.949028Z"
    }
   },
   "outputs": [
    {
     "name": "stdout",
     "output_type": "stream",
     "text": [
      "<class 'pandas.core.frame.DataFrame'>\n",
      "RangeIndex: 18094 entries, 0 to 18093\n",
      "Data columns (total 14 columns):\n",
      " #   Column     Non-Null Count  Dtype \n",
      "---  ------     --------------  ----- \n",
      " 0   year       18094 non-null  int64 \n",
      " 1   metro      18094 non-null  object\n",
      " 2   id         18094 non-null  int64 \n",
      " 3   sex        18094 non-null  int64 \n",
      " 4   age        18094 non-null  int64 \n",
      " 5   number     18094 non-null  int64 \n",
      " 6   education  18094 non-null  int64 \n",
      " 7   marriage   18094 non-null  int64 \n",
      " 8   asset      18094 non-null  int64 \n",
      " 9   debt       18094 non-null  int64 \n",
      " 10  income     18094 non-null  int64 \n",
      " 11  industry   13356 non-null  object\n",
      " 12  job        13356 non-null  object\n",
      " 13  house      18094 non-null  int64 \n",
      "dtypes: int64(11), object(3)\n",
      "memory usage: 1.9+ MB\n",
      "None\n"
     ]
    }
   ],
   "source": [
    "import pandas as pd\n",
    "import numpy as np\n",
    "import matplotlib.pyplot as plt\n",
    "import seaborn as sns\n",
    "import warnings\n",
    "# ignore warnings\n",
    "import scipy.stats as stats\n",
    "warnings.filterwarnings('ignore')\n",
    "##### Read & preprocess the data (from kostat) #####\n",
    "df_raw23 = pd.read_csv('data/2023_가구마스터_20240501_50723.csv',encoding='CP949')\n",
    "selected_cols = [\"조사연도\",\"수도권여부\",\"MD제공용_가구고유번호\",\"가구주_성별코드\",\"가구주_만연령\",\"가구원수\",\"가구주_교육정도_학력코드\",\"가구주_혼인상태코드\",\"자산\",\"부채\",\"처분가능소득(보완)[경상소득(보완)-비소비지출(보완)]\",\"가구주_산업대분류코드\",\"가구주_직업대분류코드\",\"입주형태코드\"]\n",
    "df23 = df_raw23[selected_cols]\n",
    "df23.rename(columns={\"조사연도\":\"year\",\"수도권여부\":\"metro\",\"MD제공용_가구고유번호\":\"id\",\"가구주_성별코드\":\"sex\",\"가구주_만연령\":\"age\",\"가구원수\":\"number\",\"가구주_교육정도_학력코드\":\"education\",\"가구주_혼인상태코드\":\"marriage\",\"자산\":\"asset\",\"부채\":\"debt\",\"처분가능소득(보완)[경상소득(보완)-비소비지출(보완)]\":\"income\",\"가구주_산업대분류코드\":\"industry\",\"가구주_직업대분류코드\":\"job\",\"입주형태코드\":\"house\"},inplace=True)\n",
    "print(df23.info())"
   ]
  },
  {
   "cell_type": "code",
   "outputs": [
    {
     "name": "stdout",
     "output_type": "stream",
     "text": [
      "Job category :  ['4' '5' '2' '9' nan '3' '8' '7' '1' '6' 'A']\n",
      "<class 'pandas.core.frame.DataFrame'>\n",
      "RangeIndex: 18094 entries, 0 to 18093\n",
      "Data columns (total 2 columns):\n",
      " #   Column  Non-Null Count  Dtype \n",
      "---  ------  --------------  ----- \n",
      " 0   sex     18094 non-null  int64 \n",
      " 1   job     13356 non-null  object\n",
      "dtypes: int64(1), object(1)\n",
      "memory usage: 282.8+ KB\n",
      "None\n"
     ]
    }
   ],
   "source": [
    "##### Test of income difference according to occupation #####\n",
    "##### occupational types #####\n",
    "# 1 : 관리자\n",
    "# 2 : 전문가 및 관련 종사자\n",
    "# 3 : 사무 종사자\n",
    "# 4 : 서비스 종사자\n",
    "# 5 : 판매 종사자\n",
    "# 6 : 농림어업 숙련？종사자\n",
    "# 7 : 기능원 및 관련 기능 종사자\n",
    "# 8 : 장치,기계조작 및 조립 종사자\n",
    "# 9 : 단순노무 종사자\n",
    "# A : 군인\n",
    "print(\"Job category : \", df23['job'].unique())\n",
    "df23 = df23[['sex','job']]\n",
    "print(df23.info())"
   ],
   "metadata": {
    "collapsed": false,
    "ExecuteTime": {
     "end_time": "2024-05-29T07:49:32.935721Z",
     "start_time": "2024-05-29T07:49:32.929159Z"
    }
   },
   "id": "1f6cceae3448250d",
   "execution_count": 4
  },
  {
   "cell_type": "code",
   "outputs": [
    {
     "name": "stdout",
     "output_type": "stream",
     "text": [
      "# of nulls : 4738\n",
      "<class 'pandas.core.frame.DataFrame'>\n",
      "Index: 13356 entries, 0 to 18093\n",
      "Data columns (total 2 columns):\n",
      " #   Column  Non-Null Count  Dtype \n",
      "---  ------  --------------  ----- \n",
      " 0   sex     13356 non-null  int64 \n",
      " 1   job     13356 non-null  object\n",
      "dtypes: int64(1), object(1)\n",
      "memory usage: 313.0+ KB\n",
      "None\n"
     ]
    }
   ],
   "source": [
    "print(\"# of nulls :\", df23['job'].isnull().sum())\n",
    "df23 = df23.dropna()\n",
    "print(df23.info())"
   ],
   "metadata": {
    "collapsed": false,
    "ExecuteTime": {
     "end_time": "2024-05-29T07:49:40.376213Z",
     "start_time": "2024-05-29T07:49:40.369506Z"
    }
   },
   "id": "fd2481aad35ace6a",
   "execution_count": 5
  },
  {
   "cell_type": "code",
   "outputs": [
    {
     "name": "stdout",
     "output_type": "stream",
     "text": [
      "<class 'pandas.core.frame.DataFrame'>\n",
      "Index: 13330 entries, 0 to 18093\n",
      "Data columns (total 2 columns):\n",
      " #   Column  Non-Null Count  Dtype \n",
      "---  ------  --------------  ----- \n",
      " 0   sex     13330 non-null  int64 \n",
      " 1   job     13330 non-null  object\n",
      "dtypes: int64(1), object(1)\n",
      "memory usage: 312.4+ KB\n",
      "None\n"
     ]
    }
   ],
   "source": [
    "##### Option: Removal of groups (soldiers) comprised mostly of men. (as a duty in Korea)#####\n",
    "df23 = df23.drop(df23[(df23.job==\"A\")].index)\n",
    "print(df23.info())"
   ],
   "metadata": {
    "collapsed": false,
    "ExecuteTime": {
     "end_time": "2024-05-29T07:49:47.438230Z",
     "start_time": "2024-05-29T07:49:47.433390Z"
    }
   },
   "id": "6c578d200d96eafe",
   "execution_count": 6
  },
  {
   "cell_type": "code",
   "outputs": [
    {
     "name": "stdout",
     "output_type": "stream",
     "text": [
      "##### Observation Frequency #####\n",
      "job    1     2     3     4     5     6     7     8     9    All\n",
      "sex                                                            \n",
      "1    285  1572  1519   581   808  1024  1371  1716  1339  10215\n",
      "2     17   542   388   701   327   192    76    78   794   3115\n",
      "All  302  2114  1907  1282  1135  1216  1447  1794  2133  13330\n"
     ]
    }
   ],
   "source": [
    "##### Display the observation frequency: Gender distribution by job #####\n",
    "print(\"##### Observation Frequency #####\")\n",
    "tab1 = pd.crosstab(df23.sex, df23.job, margins=True) #margins=True : Include total values\n",
    "print(tab1)"
   ],
   "metadata": {
    "collapsed": false,
    "ExecuteTime": {
     "end_time": "2024-05-29T07:51:56.432788Z",
     "start_time": "2024-05-29T07:51:56.402862Z"
    }
   },
   "id": "2d383514a5b05fa1",
   "execution_count": 7
  },
  {
   "cell_type": "code",
   "outputs": [],
   "source": [],
   "metadata": {
    "collapsed": false
   },
   "id": "19efa0ac0bb8b361"
  },
  {
   "cell_type": "markdown",
   "source": [
    "Exercise 4."
   ],
   "metadata": {
    "collapsed": false
   },
   "id": "887aee13af830d6a"
  },
  {
   "cell_type": "code",
   "outputs": [],
   "source": [
    "# 데이터 로드 및 전처리\n",
    "df_raw23 = pd.read_csv('data/2023_가구마스터_20240501_50723.csv', encoding='CP949')\n",
    "selected_cols = [\"조사연도\",\"수도권여부\",\"MD제공용_가구고유번호\",\"가구주_성별코드\",\"가구주_만연령\",\"가구원수\",\n",
    "                 \"가구주_교육정도_학력코드\",\"가구주_혼인상태코드\",\"자산\",\"부채\",\n",
    "                 \"처분가능소득(보완)[경상소득(보완)-비소비지출(보완)]\",\"가구주_산업대분류코드\",\n",
    "                 \"가구주_직업대분류코드\",\"입주형태코드\"]\n",
    "df23 = df_raw23[selected_cols]\n",
    "df23.rename(columns={\"조사연도\":\"year\",\"수도권여부\":\"metro\",\"MD제공용_가구고유번호\":\"id\",\n",
    "                     \"가구주_성별코드\":\"sex\",\"가구주_만연령\":\"age\",\"가구원수\":\"number\",\n",
    "                     \"가구주_교육정도_학력코드\":\"education\",\"가구주_혼인상태코드\":\"marriage\",\n",
    "                     \"자산\":\"asset\",\"부채\":\"debt\",\n",
    "                     \"처분가능소득(보완)[경상소득(보완)-비소비지출(보완)]\":\"income\",\n",
    "                     \"가구주_산업대분류코드\":\"industry\",\"가구주_직업대분류코드\":\"job\",\n",
    "                     \"입주형태코드\":\"house\"}, inplace=True)\n",
    "\n",
    "\n",
    "# 필요한 컬럼만 선택\n",
    "df23 = df23[['income', 'education']]\n"
   ],
   "metadata": {
    "collapsed": false,
    "ExecuteTime": {
     "end_time": "2024-05-29T08:41:41.860033Z",
     "start_time": "2024-05-29T08:41:41.696856Z"
    }
   },
   "id": "adac1d33b95c706c",
   "execution_count": 13
  },
  {
   "cell_type": "code",
   "outputs": [
    {
     "data": {
      "text/plain": "              income     education\ncount   18094.000000  18094.000000\nmean     5053.512656      4.258428\nstd      4935.612087      1.626067\nmin    -22848.000000      1.000000\n25%      1977.000000      3.000000\n50%      3890.500000      4.000000\n75%      6751.000000      6.000000\nmax    223958.000000      8.000000",
      "text/html": "<div>\n<style scoped>\n    .dataframe tbody tr th:only-of-type {\n        vertical-align: middle;\n    }\n\n    .dataframe tbody tr th {\n        vertical-align: top;\n    }\n\n    .dataframe thead th {\n        text-align: right;\n    }\n</style>\n<table border=\"1\" class=\"dataframe\">\n  <thead>\n    <tr style=\"text-align: right;\">\n      <th></th>\n      <th>income</th>\n      <th>education</th>\n    </tr>\n  </thead>\n  <tbody>\n    <tr>\n      <th>count</th>\n      <td>18094.000000</td>\n      <td>18094.000000</td>\n    </tr>\n    <tr>\n      <th>mean</th>\n      <td>5053.512656</td>\n      <td>4.258428</td>\n    </tr>\n    <tr>\n      <th>std</th>\n      <td>4935.612087</td>\n      <td>1.626067</td>\n    </tr>\n    <tr>\n      <th>min</th>\n      <td>-22848.000000</td>\n      <td>1.000000</td>\n    </tr>\n    <tr>\n      <th>25%</th>\n      <td>1977.000000</td>\n      <td>3.000000</td>\n    </tr>\n    <tr>\n      <th>50%</th>\n      <td>3890.500000</td>\n      <td>4.000000</td>\n    </tr>\n    <tr>\n      <th>75%</th>\n      <td>6751.000000</td>\n      <td>6.000000</td>\n    </tr>\n    <tr>\n      <th>max</th>\n      <td>223958.000000</td>\n      <td>8.000000</td>\n    </tr>\n  </tbody>\n</table>\n</div>"
     },
     "execution_count": 18,
     "metadata": {},
     "output_type": "execute_result"
    }
   ],
   "source": [
    "df23.describe()"
   ],
   "metadata": {
    "collapsed": false,
    "ExecuteTime": {
     "end_time": "2024-05-29T08:42:31.466226Z",
     "start_time": "2024-05-29T08:42:31.458983Z"
    }
   },
   "id": "dcf25303ee37c085",
   "execution_count": 18
  },
  {
   "cell_type": "code",
   "outputs": [
    {
     "name": "stdout",
     "output_type": "stream",
     "text": [
      "F-Score: 1315.73855791482\n",
      "P-Value: 1.1102230246251565e-16\n",
      "귀무가설을 기각합니다. 교육 수준에 따른 소득 차이가 유의미합니다.\n"
     ]
    }
   ],
   "source": [
    "# 교육 수준에 따라 그룹화\n",
    "target1 = [1, 2, 3]\n",
    "target2 = [4, 5]\n",
    "target3 = [6, 7, 8]\n",
    "\n",
    "df23_L = df23[df23['education'].isin(target1)]\n",
    "df23_M = df23[df23['education'].isin(target2)]\n",
    "df23_H = df23[df23['education'].isin(target3)]\n",
    "\n",
    "# 그룹별 평균 계산\n",
    "mean_L = df23_L['income'].mean()\n",
    "mean_M = df23_M['income'].mean()\n",
    "mean_H = df23_H['income'].mean()\n",
    "\n",
    "# 그룹 간 분산(SSb) 계산\n",
    "overall_mean = df23['income'].mean()\n",
    "SSb_L = len(df23_L) * (mean_L - overall_mean)**2\n",
    "SSb_M = len(df23_M) * (mean_M - overall_mean)**2\n",
    "SSb_H = len(df23_H) * (mean_H - overall_mean)**2\n",
    "SSb = SSb_L + SSb_M + SSb_H\n",
    "\n",
    "# 그룹 내 분산(SSw) 계산\n",
    "SSw_L = ((df23_L['income'] - mean_L)**2).sum()\n",
    "SSw_M = ((df23_M['income'] - mean_M)**2).sum()\n",
    "SSw_H = ((df23_H['income'] - mean_H)**2).sum()\n",
    "SSw = SSw_L + SSw_M + SSw_H\n",
    "\n",
    "# 자유도 계산\n",
    "DFb = 2  # 그룹 수 - 1\n",
    "DFw = len(df23) - 3  # 전체 샘플 수 - 그룹 수\n",
    "\n",
    "# 평균제곱 계산\n",
    "MSb = SSb / DFb\n",
    "MSw = SSw / DFw\n",
    "\n",
    "# F-통계량 계산\n",
    "f_score = MSb / MSw\n",
    "\n",
    "# P-value 계산\n",
    "p_value = 1 - stats.f.cdf(f_score, DFb, DFw)\n",
    "\n",
    "# 결과 출력\n",
    "print(f\"F-Score: {f_score}\")\n",
    "print(f\"P-Value: {p_value}\")\n",
    "\n",
    "# 유의 수준 0.05와 비교하여 결과 해석\n",
    "alpha = 0.05\n",
    "if p_value < alpha:\n",
    "    print(\"귀무가설을 기각합니다. 교육 수준에 따른 소득 차이가 유의미합니다.\")\n",
    "else:\n",
    "    print(\"귀무가설을 기각할 수 없습니다. 교육 수준에 따른 소득 차이가 유의미하지 않습니다.\")"
   ],
   "metadata": {
    "collapsed": false,
    "ExecuteTime": {
     "end_time": "2024-05-29T08:42:05.551836Z",
     "start_time": "2024-05-29T08:42:05.530400Z"
    }
   },
   "id": "19471d16faa7b320",
   "execution_count": 15
  },
  {
   "cell_type": "code",
   "outputs": [],
   "source": [],
   "metadata": {
    "collapsed": false
   },
   "id": "48671bbbbb103a87"
  }
 ],
 "metadata": {
  "kernelspec": {
   "display_name": "Python 3",
   "language": "python",
   "name": "python3"
  },
  "language_info": {
   "codemirror_mode": {
    "name": "ipython",
    "version": 2
   },
   "file_extension": ".py",
   "mimetype": "text/x-python",
   "name": "python",
   "nbconvert_exporter": "python",
   "pygments_lexer": "ipython2",
   "version": "2.7.6"
  }
 },
 "nbformat": 4,
 "nbformat_minor": 5
}
