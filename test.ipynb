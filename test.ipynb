{
 "cells": [
  {
   "cell_type": "code",
   "execution_count": 7,
   "id": "initial_id",
   "metadata": {
    "collapsed": true,
    "ExecuteTime": {
     "end_time": "2024-04-19T12:12:48.758864Z",
     "start_time": "2024-04-19T12:12:48.756091Z"
    }
   },
   "outputs": [
    {
     "name": "stdout",
     "output_type": "stream",
     "text": [
      "standard_error : 0.010,outcomes_range : 0.510~0.530\n"
     ]
    }
   ],
   "source": [
    "import numpy as np\n",
    "\n",
    "def calc_se(p, n):\n",
    "    std_deviation = np.sqrt(p * (1 - p))\n",
    "    standard_error = std_deviation / np.sqrt(n)\n",
    "    \n",
    "    return standard_error\n",
    "\n",
    "\n",
    "probability = 0.52\n",
    "number_of_trials = 2500\n",
    "bound = 1\n",
    "\n",
    "standard_error = calc_se(probability, number_of_trials)\n",
    "print(f\"standard_error : {standard_error:.3f},\"\n",
    "      f\"outcomes_range : {probability-bound*standard_error:.3f}~{probability+bound*standard_error:.3f}\")\n"
   ]
  },
  {
   "cell_type": "code",
   "outputs": [],
   "source": [],
   "metadata": {
    "collapsed": false
   },
   "id": "3a9d5c0b237bfd68"
  }
 ],
 "metadata": {
  "kernelspec": {
   "display_name": "Python 3",
   "language": "python",
   "name": "python3"
  },
  "language_info": {
   "codemirror_mode": {
    "name": "ipython",
    "version": 2
   },
   "file_extension": ".py",
   "mimetype": "text/x-python",
   "name": "python",
   "nbconvert_exporter": "python",
   "pygments_lexer": "ipython2",
   "version": "2.7.6"
  }
 },
 "nbformat": 4,
 "nbformat_minor": 5
}
