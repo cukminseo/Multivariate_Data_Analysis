{
 "cells": [
  {
   "cell_type": "code",
   "execution_count": 3,
   "id": "initial_id",
   "metadata": {
    "collapsed": true,
    "ExecuteTime": {
     "end_time": "2024-04-24T05:21:03.403593Z",
     "start_time": "2024-04-24T05:21:03.400172100Z"
    }
   },
   "outputs": [
    {
     "name": "stdout",
     "output_type": "stream",
     "text": [
      "분산 : 0.49959983987187184\n",
      "standard_error : 0.010,outcomes_range : 0.510~0.530\n"
     ]
    }
   ],
   "source": [
    "import numpy as np\n",
    "\n",
    "def calc_se(p, n):\n",
    "    std_deviation = np.sqrt(p * (1 - p))\n",
    "    standard_error = std_deviation / np.sqrt(n)\n",
    "    \n",
    "    return standard_error\n",
    "\n",
    "\n",
    "P_probability = 0.52\n",
    "N_number_of_trials = 2500\n",
    "bound = 1\n",
    "\"\"\"\n",
    "bound 1 = 68%\n",
    "bound 2 = 95%\n",
    "bound 3 = 99.7%\n",
    "\"\"\"\n",
    "\n",
    "# 결과 출력\n",
    "std_deviation = np.sqrt(P_probability * (1 - P_probability))\n",
    "print(f\"분산 : {std_deviation}\")\n",
    "standard_error = std_deviation / np.sqrt(N_number_of_trials)\n",
    "print(f\"standard_error : {standard_error:.3f},\"\n",
    "      f\"outcomes_range : {P_probability-bound*standard_error:.3f}~{P_probability+bound*standard_error:.3f}\")\n"
   ]
  },
  {
   "cell_type": "code",
   "outputs": [],
   "source": [],
   "metadata": {
    "collapsed": false
   },
   "id": "3a9d5c0b237bfd68"
  }
 ],
 "metadata": {
  "kernelspec": {
   "display_name": "Python 3",
   "language": "python",
   "name": "python3"
  },
  "language_info": {
   "codemirror_mode": {
    "name": "ipython",
    "version": 2
   },
   "file_extension": ".py",
   "mimetype": "text/x-python",
   "name": "python",
   "nbconvert_exporter": "python",
   "pygments_lexer": "ipython2",
   "version": "2.7.6"
  }
 },
 "nbformat": 4,
 "nbformat_minor": 5
}
